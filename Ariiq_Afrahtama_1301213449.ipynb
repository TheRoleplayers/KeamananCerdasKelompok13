{
  "cells": [
    {
      "cell_type": "code",
      "execution_count": 6,
      "metadata": {
        "id": "upi9gJ3VqRE5"
      },
      "outputs": [],
      "source": [
        "import pandas as pd\n",
        "import re\n",
        "import numpy as np\n",
        "import tensorflow as tf\n",
        "from tensorflow.keras import layers, models\n",
        "from sklearn.model_selection import train_test_split\n",
        "from sklearn.preprocessing import LabelEncoder\n",
        "from sklearn.metrics import classification_report\n",
        "from tensorflow.keras.preprocessing.text import Tokenizer\n",
        "from tensorflow.keras.preprocessing.sequence import pad_sequences"
      ]
    },
    {
      "cell_type": "code",
      "execution_count": 7,
      "metadata": {
        "id": "EOw0rhKlqhTL"
      },
      "outputs": [],
      "source": [
        "# Fungsi untuk membersihkan teks (jika diperlukan)\n",
        "def clean_text(text):\n",
        "    # Hapus karakter non-alfanumerik dan ubah ke huruf kecil\n",
        "    text = re.sub(r'\\W', ' ', text)\n",
        "    return text.lower()"
      ]
    },
    {
      "cell_type": "code",
      "execution_count": 8,
      "metadata": {
        "id": "9y5o0FjpqhcA"
      },
      "outputs": [],
      "source": [
        "# 1. Muat dataset\n",
        "df = pd.read_csv('train_test_network.csv', on_bad_lines='skip')"
      ]
    },
    {
      "cell_type": "code",
      "execution_count": 9,
      "metadata": {
        "id": "QCT6GeecqhkX"
      },
      "outputs": [],
      "source": [
        "# 2. Feature Selection\n",
        "features = df[['src_ip', 'dst_ip', 'proto', 'src_bytes', 'dst_bytes', 'src_pkts', 'dst_pkts', 'duration']]\n",
        "labels = df['label'].apply(lambda x: 1 if x == 'DDoS' else 0)"
      ]
    },
    {
      "cell_type": "code",
      "execution_count": 10,
      "metadata": {
        "colab": {
          "base_uri": "https://localhost:8080/"
        },
        "id": "7yBVRl-crCY3",
        "outputId": "e3d44688-44d7-4a3e-af17-05f39c09e642"
      },
      "outputs": [
        {
          "output_type": "stream",
          "name": "stderr",
          "text": [
            "<ipython-input-10-d9bb2a75ab2d>:4: SettingWithCopyWarning: \n",
            "A value is trying to be set on a copy of a slice from a DataFrame.\n",
            "Try using .loc[row_indexer,col_indexer] = value instead\n",
            "\n",
            "See the caveats in the documentation: https://pandas.pydata.org/pandas-docs/stable/user_guide/indexing.html#returning-a-view-versus-a-copy\n",
            "  features[col] = encoder.fit_transform(features[col])\n",
            "<ipython-input-10-d9bb2a75ab2d>:4: SettingWithCopyWarning: \n",
            "A value is trying to be set on a copy of a slice from a DataFrame.\n",
            "Try using .loc[row_indexer,col_indexer] = value instead\n",
            "\n",
            "See the caveats in the documentation: https://pandas.pydata.org/pandas-docs/stable/user_guide/indexing.html#returning-a-view-versus-a-copy\n",
            "  features[col] = encoder.fit_transform(features[col])\n",
            "<ipython-input-10-d9bb2a75ab2d>:4: SettingWithCopyWarning: \n",
            "A value is trying to be set on a copy of a slice from a DataFrame.\n",
            "Try using .loc[row_indexer,col_indexer] = value instead\n",
            "\n",
            "See the caveats in the documentation: https://pandas.pydata.org/pandas-docs/stable/user_guide/indexing.html#returning-a-view-versus-a-copy\n",
            "  features[col] = encoder.fit_transform(features[col])\n"
          ]
        }
      ],
      "source": [
        "# 3. Handling Categorical Features\n",
        "encoder = LabelEncoder()\n",
        "for col in ['src_ip', 'dst_ip', 'proto']:\n",
        "    features[col] = encoder.fit_transform(features[col])"
      ]
    },
    {
      "cell_type": "code",
      "execution_count": 11,
      "metadata": {
        "id": "9d3sgpahrEQ7"
      },
      "outputs": [],
      "source": [
        "# 4. Gabungkan fitur menjadi representasi teks\n",
        "texts = features.astype(str).agg(' '.join, axis=1).tolist()"
      ]
    },
    {
      "cell_type": "code",
      "execution_count": 12,
      "metadata": {
        "id": "1txsNxJHrXjy"
      },
      "outputs": [],
      "source": [
        "# 5. Membersihkan teks (opsional)\n",
        "texts = [clean_text(text) for text in texts]"
      ]
    },
    {
      "cell_type": "code",
      "execution_count": 13,
      "metadata": {
        "id": "qyT_YnnjrXeI"
      },
      "outputs": [],
      "source": [
        "# 6. Tokenisasi teks menggunakan Tokenizer dari Keras\n",
        "tokenizer = Tokenizer(num_words=5000)  # Batasi ke 5000 kata yang paling sering muncul\n",
        "tokenizer.fit_on_texts(texts)\n",
        "sequences = tokenizer.texts_to_sequences(texts)"
      ]
    },
    {
      "cell_type": "code",
      "execution_count": 14,
      "metadata": {
        "id": "i8OsxaAorgKV"
      },
      "outputs": [],
      "source": [
        "# Padding sequences agar memiliki panjang yang seragam\n",
        "max_len = 128\n",
        "X = pad_sequences(sequences, maxlen=max_len)"
      ]
    },
    {
      "cell_type": "code",
      "execution_count": 15,
      "metadata": {
        "id": "NUYFiE2hrgTb"
      },
      "outputs": [],
      "source": [
        "# 7. Bagi dataset menjadi data latih dan uji\n",
        "X_train, X_test, y_train, y_test = train_test_split(X, labels, test_size=0.3, random_state=42)"
      ]
    },
    {
      "cell_type": "code",
      "execution_count": 16,
      "metadata": {
        "id": "K0tn38QVrgXJ"
      },
      "outputs": [],
      "source": [
        "# 8. Membangun model GRU\n",
        "def build_gru_model(input_length):\n",
        "    model = models.Sequential()\n",
        "    model.add(layers.Embedding(input_dim=5000, output_dim=128, input_length=input_length))\n",
        "    model.add(layers.GRU(units=64, return_sequences=False))\n",
        "    model.add(layers.Dense(1, activation='sigmoid'))  # Untuk klasifikasi biner\n",
        "\n",
        "    model.compile(optimizer='adam', loss='binary_crossentropy', metrics=['accuracy'])\n",
        "    return model"
      ]
    },
    {
      "cell_type": "code",
      "execution_count": 17,
      "metadata": {
        "colab": {
          "base_uri": "https://localhost:8080/"
        },
        "id": "gwB0-6nJr68o",
        "outputId": "3cb6a183-fa50-41a7-ea2f-5bb0dbb2780c"
      },
      "outputs": [
        {
          "output_type": "stream",
          "name": "stderr",
          "text": [
            "/usr/local/lib/python3.10/dist-packages/keras/src/layers/core/embedding.py:90: UserWarning: Argument `input_length` is deprecated. Just remove it.\n",
            "  warnings.warn(\n"
          ]
        }
      ],
      "source": [
        "# Inisialisasi model GRU\n",
        "gru_model = build_gru_model(max_len)"
      ]
    },
    {
      "cell_type": "code",
      "execution_count": 19,
      "metadata": {
        "colab": {
          "base_uri": "https://localhost:8080/"
        },
        "id": "v1GF1EpFsJ-W",
        "outputId": "e6dc7cf9-dfe8-4e9f-8c6c-d24c66b748f5"
      },
      "outputs": [
        {
          "output_type": "stream",
          "name": "stdout",
          "text": [
            "Epoch 1/3\n",
            "\u001b[1m4617/4617\u001b[0m \u001b[32m━━━━━━━━━━━━━━━━━━━━\u001b[0m\u001b[37m\u001b[0m \u001b[1m543s\u001b[0m 118ms/step - accuracy: 1.0000 - loss: 9.0805e-09 - val_accuracy: 1.0000 - val_loss: 1.8380e-09\n",
            "Epoch 2/3\n",
            "\u001b[1m4617/4617\u001b[0m \u001b[32m━━━━━━━━━━━━━━━━━━━━\u001b[0m\u001b[37m\u001b[0m \u001b[1m544s\u001b[0m 118ms/step - accuracy: 1.0000 - loss: 1.2870e-09 - val_accuracy: 1.0000 - val_loss: 4.4152e-10\n",
            "Epoch 3/3\n",
            "\u001b[1m4617/4617\u001b[0m \u001b[32m━━━━━━━━━━━━━━━━━━━━\u001b[0m\u001b[37m\u001b[0m \u001b[1m562s\u001b[0m 118ms/step - accuracy: 1.0000 - loss: 3.5658e-10 - val_accuracy: 1.0000 - val_loss: 2.0132e-10\n"
          ]
        },
        {
          "output_type": "execute_result",
          "data": {
            "text/plain": [
              "<keras.src.callbacks.history.History at 0x7c844a0eb790>"
            ]
          },
          "metadata": {},
          "execution_count": 19
        }
      ],
      "source": [
        "# 9. Melatih model\n",
        "gru_model.fit(X_train, y_train, epochs=3, batch_size=32, validation_data=(X_test, y_test))"
      ]
    },
    {
      "cell_type": "code",
      "execution_count": 20,
      "metadata": {
        "id": "vRZYJ0N-087s",
        "colab": {
          "base_uri": "https://localhost:8080/"
        },
        "outputId": "92f73f1e-77af-4fe7-9899-80aa533d3fa1"
      },
      "outputs": [
        {
          "output_type": "stream",
          "name": "stdout",
          "text": [
            "\u001b[1m1979/1979\u001b[0m \u001b[32m━━━━━━━━━━━━━━━━━━━━\u001b[0m\u001b[37m\u001b[0m \u001b[1m47s\u001b[0m 24ms/step - accuracy: 1.0000 - loss: 2.0130e-10\n",
            "Test Accuracy: 100.00%\n"
          ]
        }
      ],
      "source": [
        "# 10. Evaluasi model\n",
        "test_loss, test_acc = gru_model.evaluate(X_test, y_test)\n",
        "print(f'Test Accuracy: {test_acc * 100:.2f}%')"
      ]
    },
    {
      "cell_type": "code",
      "execution_count": 21,
      "metadata": {
        "id": "pLNJBrMs09B9",
        "colab": {
          "base_uri": "https://localhost:8080/"
        },
        "outputId": "5167ba81-97b6-449e-aa54-680c5b1aacbc"
      },
      "outputs": [
        {
          "output_type": "stream",
          "name": "stdout",
          "text": [
            "\u001b[1m1979/1979\u001b[0m \u001b[32m━━━━━━━━━━━━━━━━━━━━\u001b[0m\u001b[37m\u001b[0m \u001b[1m47s\u001b[0m 24ms/step\n",
            "              precision    recall  f1-score   support\n",
            "\n",
            "           0       1.00      1.00      1.00     63313\n",
            "\n",
            "    accuracy                           1.00     63313\n",
            "   macro avg       1.00      1.00      1.00     63313\n",
            "weighted avg       1.00      1.00      1.00     63313\n",
            "\n"
          ]
        }
      ],
      "source": [
        "# 11. Prediksi dan laporan klasifikasi\n",
        "y_pred = (gru_model.predict(X_test) > 0.5).astype(\"int32\")  # Mengonversi probabilitas ke label biner\n",
        "print(classification_report(y_test, y_pred))"
      ]
    },
    {
      "cell_type": "code",
      "source": [
        "# 12. Real-time DDoS Detection\n",
        "def real_time_inference(model, traffic_data, tokenizer, max_len):\n",
        "    # Tokenize and pad incoming traffic data\n",
        "    sequence = tokenizer.texts_to_sequences([traffic_data])\n",
        "    padded_sequence = pad_sequences(sequence, maxlen=max_len)\n",
        "\n",
        "    # Predict the result\n",
        "    prediction = model.predict(padded_sequence)\n",
        "    if prediction > 0.5:\n",
        "        return \"DDoS Attack Detected!\"\n",
        "    else:\n",
        "        return \"Normal Traffic\"\n",
        "\n",
        "# Contoh penggunaan (misal dari input pengguna real-time)\n",
        "sample_traffic = \"192.168.0.1 192.168.0.2 TCP 500 1000 10 20 60\"\n",
        "print(real_time_inference(gru_model, sample_traffic, tokenizer, max_len))"
      ],
      "metadata": {
        "colab": {
          "base_uri": "https://localhost:8080/"
        },
        "id": "39hflmCHKQ2B",
        "outputId": "a88e4c17-88d0-435f-9e72-35f882b3e15c"
      },
      "execution_count": 22,
      "outputs": [
        {
          "output_type": "stream",
          "name": "stdout",
          "text": [
            "\u001b[1m1/1\u001b[0m \u001b[32m━━━━━━━━━━━━━━━━━━━━\u001b[0m\u001b[37m\u001b[0m \u001b[1m0s\u001b[0m 84ms/step\n",
            "Normal Traffic\n"
          ]
        }
      ]
    }
  ],
  "metadata": {
    "colab": {
      "provenance": []
    },
    "kernelspec": {
      "display_name": "Python 3",
      "name": "python3"
    },
    "language_info": {
      "name": "python"
    }
  },
  "nbformat": 4,
  "nbformat_minor": 0
}